{
 "cells": [
  {
   "cell_type": "markdown",
   "metadata": {},
   "source": [
    "# From dict\n",
    "\n",
    "[pandas documentattion](https://pandas.pydata.org/pandas-docs/stable/index.html) >>  \n",
    "[Getting started](https://pandas.pydata.org/pandas-docs/stable/getting_started/index.html) >>  \n",
    "[Intro to data structures](https://pandas.pydata.org/pandas-docs/stable/getting_started/dsintro.html#) >>  \n",
    "[Series](https://pandas.pydata.org/pandas-docs/stable/getting_started/dsintro.html#series)\n",
    "\n",
    "1. **Series** can be instantiated calling **pandas.Series**(*data*, *index*)\n",
    "   with *data* being a **dict**,\n",
    "   and the passed *index* is a list of axis labels.\n",
    "2. When the *data* is a dict, and an *index* is not passed,\n",
    "   the Series index will be ordered by the dict’s insertion order.\n",
    "3. If n *index* is passed,\n",
    "   the values in *data* corresponding to the labels in the index will be pulled out.\n",
    "4. NaN (not a number) is the standard missing data marker used in pandas."
   ]
  },
  {
   "cell_type": "code",
   "execution_count": 1,
   "metadata": {},
   "outputs": [],
   "source": [
    "import pandas as pd\n"
   ]
  },
  {
   "cell_type": "code",
   "execution_count": 2,
   "metadata": {},
   "outputs": [
    {
     "name": "stdout",
     "output_type": "stream",
     "text": [
      "data <class 'dict'>:\n",
      "{'c': 2, 'b': 1, 'a': 0}\n",
      "\n",
      "Series <class 'pandas.core.series.Series'>:\n",
      "c    2\n",
      "b    1\n",
      "a    0\n",
      "dtype: int64\n"
     ]
    }
   ],
   "source": [
    "# Create series, when the data is a dict,\n",
    "# and an index is not passed.\n",
    "\n",
    "d = {'c': 2, 'b': 1, 'a': 0}\n",
    "s = pd.Series(data=d)\n",
    "\n",
    "print(f'data {type(d)}:', d, '',\n",
    "      f'Series {type(s)}:', s,\n",
    "      sep='\\n')\n"
   ]
  },
  {
   "cell_type": "code",
   "execution_count": 3,
   "metadata": {},
   "outputs": [
    {
     "name": "stdout",
     "output_type": "stream",
     "text": [
      "data <class 'dict'>:\n",
      "{'a': 0, 'b': 1, 'c': 2}\n",
      "\n",
      "series <class 'pandas.core.series.Series'>:\n",
      "a    0\n",
      "b    1\n",
      "c    2\n",
      "dtype: int64\n",
      "\n",
      "index <class 'dict'>:\n",
      "['c', 'b', 'a', 'b', 'c']\n",
      "\n",
      "series <class 'pandas.core.series.Series'>\n",
      "c    2\n",
      "b    1\n",
      "a    0\n",
      "b    1\n",
      "c    2\n",
      "dtype: int64\n"
     ]
    }
   ],
   "source": [
    "# Create series, when the data is a dict,\n",
    "# and the index is passed.\n",
    "\n",
    "d = {'a': 0, 'b': 1, 'c': 2}\n",
    "s = pd.Series(data=d)\n",
    "\n",
    "print(f'data {type(d)}:', d, '',\n",
    "      f'series {type(s)}:', s, '',\n",
    "      sep='\\n')\n",
    "\n",
    "i = list('cbabc')\n",
    "s = pd.Series(data=d, index=i)\n",
    "\n",
    "print(f'index {type(d)}:', i, '',\n",
    "      f'series {type(s)}', s,\n",
    "      sep='\\n')\n"
   ]
  },
  {
   "cell_type": "code",
   "execution_count": 4,
   "metadata": {},
   "outputs": [
    {
     "name": "stdout",
     "output_type": "stream",
     "text": [
      "data <class 'dict'>:\n",
      "{'a': 0, 'b': 1, 'c': 2}\n",
      "\n",
      "index <class 'dict'>:\n",
      "['a', 'b', 'r', 'a', 'c', 'a', 'd', 'a', 'b', 'r', 'a']\n",
      "\n",
      "series <class 'pandas.core.series.Series'>:\n",
      "a    0.0\n",
      "b    1.0\n",
      "r    NaN\n",
      "a    0.0\n",
      "c    2.0\n",
      "a    0.0\n",
      "d    NaN\n",
      "a    0.0\n",
      "b    1.0\n",
      "r    NaN\n",
      "a    0.0\n",
      "dtype: float64\n"
     ]
    }
   ],
   "source": [
    "# Create series, when the data is a dict,\n",
    "# and the index with missing labels is passed.\n",
    "\n",
    "d = {'a': 0, 'b': 1, 'c': 2}\n",
    "i = list('abracadabra')\n",
    "s = pd.Series(data=d, index=i)\n",
    "\n",
    "print(f'data {type(d)}:', d, '',\n",
    "      f'index {type(d)}:', i, '',\n",
    "      f'series {type(s)}:', s,\n",
    "      sep='\\n')\n"
   ]
  }
 ],
 "metadata": {
  "kernelspec": {
   "display_name": "Python 3",
   "language": "python",
   "name": "python3"
  },
  "language_info": {
   "codemirror_mode": {
    "name": "ipython",
    "version": 3
   },
   "file_extension": ".py",
   "mimetype": "text/x-python",
   "name": "python",
   "nbconvert_exporter": "python",
   "pygments_lexer": "ipython3",
   "version": "3.7.3"
  }
 },
 "nbformat": 4,
 "nbformat_minor": 2
}
