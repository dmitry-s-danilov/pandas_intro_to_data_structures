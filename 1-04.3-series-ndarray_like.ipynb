{
 "cells": [
  {
   "cell_type": "markdown",
   "metadata": {},
   "source": [
    "# Series is ndarray-like\n",
    "## array from series\n",
    "\n",
    "[pandas documentattion](https://pandas.pydata.org/pandas-docs/stable/index.html) >>  \n",
    "[Getting started](https://pandas.pydata.org/pandas-docs/stable/getting_started/index.html) >>  \n",
    "[Intro to data structures](https://pandas.pydata.org/pandas-docs/stable/getting_started/dsintro.html#) >>  \n",
    "[Series](https://pandas.pydata.org/pandas-docs/stable/getting_started/dsintro.html#series)\n",
    "\n",
    "1. If you need the actual array backing a Series, use **Series.array** attribute.\n",
    "2. While Series is ndarray-like, if you need an actual ndarray,\n",
    "   then use **Series.to_numpy** method.\n"
   ]
  },
  {
   "cell_type": "code",
   "execution_count": 1,
   "metadata": {},
   "outputs": [],
   "source": [
    "import numpy as np\n",
    "import pandas as pd\n"
   ]
  },
  {
   "cell_type": "code",
   "execution_count": 2,
   "metadata": {},
   "outputs": [
    {
     "name": "stdout",
     "output_type": "stream",
     "text": [
      "<class 'list'>:\n",
      "['a', 'b', 'c', 'd', 'e', 'f', 'g', 'h', 'i', 'j', 'k']\n",
      "\n",
      "<class 'numpy.ndarray'>:\n",
      "[-0.29695556 -0.9963659  -1.11461532  1.03555995  0.38103014 -1.16461295\n",
      "  1.43534085 -0.45067181 -0.94910941 -0.86239222 -0.41307633]\n",
      "ndim: 1\n",
      "shape: (11,)\n",
      "size: 11\n",
      "dtype: float64\n",
      "\n",
      "<class 'pandas.core.series.Series'>:\n",
      "a   -0.296956\n",
      "b   -0.996366\n",
      "c   -1.114615\n",
      "d    1.035560\n",
      "e    0.381030\n",
      "f   -1.164613\n",
      "g    1.435341\n",
      "h   -0.450672\n",
      "i   -0.949109\n",
      "j   -0.862392\n",
      "k   -0.413076\n",
      "dtype: float64\n",
      "ndim: 1\n",
      "shape: (11,)\n",
      "size: 11\n",
      "dtype: float64\n"
     ]
    }
   ],
   "source": [
    "# Create series, when the data is a random ndarray,\n",
    "# and an index is passed.\n",
    "\n",
    "i = list('abcdefghijk')\n",
    "a = np.random.randn(len(i))\n",
    "s = pd.Series(a, i)\n",
    "\n",
    "print(f'{type(i)}:', i, '',\n",
    "      \n",
    "      f'{type(a)}:', a,\n",
    "      f'ndim: {a.ndim}',\n",
    "      f'shape: {a.shape}',\n",
    "      f'size: {a.size}',\n",
    "      f'dtype: {a.dtype}', '',\n",
    "      \n",
    "      f'{type(s)}:', s,\n",
    "      f'ndim: {s.ndim}',\n",
    "      f'shape: {s.shape}',\n",
    "      f'size: {s.size}',\n",
    "      f'dtype: {s.dtype}',\n",
    "      sep='\\n')\n"
   ]
  },
  {
   "cell_type": "code",
   "execution_count": 3,
   "metadata": {},
   "outputs": [
    {
     "name": "stdout",
     "output_type": "stream",
     "text": [
      "s\n",
      "<class 'pandas.core.series.Series'>\n",
      "a   -0.296956\n",
      "b   -0.996366\n",
      "c   -1.114615\n",
      "d    1.035560\n",
      "e    0.381030\n",
      "f   -1.164613\n",
      "g    1.435341\n",
      "h   -0.450672\n",
      "i   -0.949109\n",
      "j   -0.862392\n",
      "k   -0.413076\n",
      "dtype: float64\n",
      "\n",
      "s.index\n",
      "<class 'pandas.core.indexes.base.Index'>\n",
      "Index(['a', 'b', 'c', 'd', 'e', 'f', 'g', 'h', 'i', 'j', 'k'], dtype='object')\n",
      "\n",
      "s.value\n",
      "<class 'numpy.ndarray'>\n",
      "[-0.29695556 -0.9963659  -1.11461532  1.03555995  0.38103014 -1.16461295\n",
      "  1.43534085 -0.45067181 -0.94910941 -0.86239222 -0.41307633]\n",
      "\n",
      "s.array\n",
      "<class 'pandas.core.arrays.numpy_.PandasArray'>\n",
      "<PandasArray>\n",
      "[-0.29695556201038703,  -0.9963658958849178,  -1.1146153210430398,\n",
      "   1.0355599474831179,  0.38103013675676684,  -1.1646129483482053,\n",
      "   1.4353408518628639, -0.45067180687134584,  -0.9491094135774492,\n",
      "  -0.8623922174000926,  -0.4130763279509709]\n",
      "Length: 11, dtype: float64\n",
      "\n",
      "s.to_numpy()\n",
      "<class 'numpy.ndarray'>\n",
      "[-0.29695556 -0.9963659  -1.11461532  1.03555995  0.38103014 -1.16461295\n",
      "  1.43534085 -0.45067181 -0.94910941 -0.86239222 -0.41307633]\n"
     ]
    }
   ],
   "source": [
    "# Get arraies from series\n",
    "# using attributes Series.index, Series.value, Series.array\n",
    "# and Series.to_numpy method.\n",
    " \n",
    "i_1 = s.index\n",
    "a_1 = s.values\n",
    "a_2 = s.array\n",
    "a_3 = s.to_numpy()\n",
    "\n",
    "print('s', type(s), s,'',\n",
    "      's.index', type(i_1), i_1, '',\n",
    "      's.value', type(a_1), a_1, '',\n",
    "      's.array', type(a_2), a_2, '',\n",
    "      's.to_numpy()', type(a_3), a_3,    \n",
    "      sep='\\n')\n"
   ]
  }
 ],
 "metadata": {
  "kernelspec": {
   "display_name": "Python 3",
   "language": "python",
   "name": "python3"
  },
  "language_info": {
   "codemirror_mode": {
    "name": "ipython",
    "version": 3
   },
   "file_extension": ".py",
   "mimetype": "text/x-python",
   "name": "python",
   "nbconvert_exporter": "python",
   "pygments_lexer": "ipython3",
   "version": "3.7.3"
  }
 },
 "nbformat": 4,
 "nbformat_minor": 2
}
