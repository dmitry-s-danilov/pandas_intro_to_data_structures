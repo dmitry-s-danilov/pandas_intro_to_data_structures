{
 "cells": [
  {
   "cell_type": "code",
   "execution_count": 2,
   "metadata": {},
   "outputs": [],
   "source": [
    "# file: example-1.1-series_from_dict.ipynb\n",
    "# created on 2019-12-07\n",
    "\n",
    "# examples of using pandas.Series(data, index):\n",
    "# creating series from dict"
   ]
  },
  {
   "cell_type": "code",
   "execution_count": 3,
   "metadata": {},
   "outputs": [],
   "source": [
    "import pandas as pd"
   ]
  },
  {
   "cell_type": "code",
   "execution_count": 4,
   "metadata": {},
   "outputs": [
    {
     "name": "stdout",
     "output_type": "stream",
     "text": [
      "data <class 'dict'>: {'c': 2, 'b': 1, 'a': 0}\n",
      "\n",
      "series <class 'pandas.core.series.Series'>:\n",
      "c    2\n",
      "b    1\n",
      "a    0\n",
      "dtype: int64\n"
     ]
    }
   ],
   "source": [
    "# no index set\n",
    "\n",
    "# when the data is a dict, and\n",
    "# an index is not passed,\n",
    "# the series index will be ordered by the dict’s insertion order\n",
    "\n",
    "d = {'c': 2, 'b': 1, 'a': 0} # initialize dict\n",
    "print(f'data {type(d)}: {d}\\n')\n",
    "\n",
    "s = pd.Series(d) # create series\n",
    "print(f'series {type(s)}:\\n{s}')"
   ]
  },
  {
   "cell_type": "code",
   "execution_count": 5,
   "metadata": {},
   "outputs": [
    {
     "name": "stdout",
     "output_type": "stream",
     "text": [
      "data <class 'dict'>: {'a': 0, 'b': 1, 'c': 2}\n",
      "\n",
      "series <class 'pandas.core.series.Series'>:\n",
      "a    0\n",
      "b    1\n",
      "c    2\n",
      "dtype: int64\n",
      "\n",
      "index <class 'list'>: ['c', 'b', 'a', 'b', 'c']\n",
      "\n",
      "series <class 'pandas.core.series.Series'>:\n",
      "c    2\n",
      "b    1\n",
      "a    0\n",
      "b    1\n",
      "c    2\n",
      "dtype: int64\n"
     ]
    }
   ],
   "source": [
    "# index set\n",
    "\n",
    "# when data is a dict, and \n",
    "# an index is passed,\n",
    "# the values in data corresponding to the labels in the index will be pulled out\n",
    "\n",
    "d = {'a': 0, 'b': 1, 'c': 2} # initialize data dict\n",
    "print(f'data {type(d)}: {d}\\n')\n",
    "\n",
    "s = pd.Series(d) # create series from dict\n",
    "print(f'series {type(s)}:\\n{s}\\n')\n",
    "\n",
    "i = ['c', 'b', 'a', 'b', 'c'] # initialize index list\n",
    "print(f'index {type(i)}: {i}\\n')\n",
    "\n",
    "s = pd.Series(d, i) # create series from dict passing index \n",
    "print(f'series {type(s)}:\\n{s}')"
   ]
  },
  {
   "cell_type": "code",
   "execution_count": 6,
   "metadata": {},
   "outputs": [
    {
     "name": "stdout",
     "output_type": "stream",
     "text": [
      "data <class 'dict'>: {'a': 0, 'b': 1, 'c': 2}\n",
      "\n",
      "index <class 'list'>: ['a', 'b', 'c', 'd']\n",
      "\n",
      "series <class 'pandas.core.series.Series'>:\n",
      "a    0.0\n",
      "b    1.0\n",
      "c    2.0\n",
      "d    NaN\n",
      "dtype: float64\n"
     ]
    }
   ],
   "source": [
    "# excess index set\n",
    "\n",
    "# NaN (not a number) is the standard missing data marker used in pandas\n",
    "\n",
    "d = {'a': 0, 'b': 1, 'c': 2} # initialize data dict\n",
    "print(f'data {type(d)}: {d}\\n')\n",
    "\n",
    "i = ['a', 'b', 'c', 'd'] # initialize index list\n",
    "print(f'index {type(i)}: {i}\\n')\n",
    "\n",
    "s = pd.Series(d, i) # create series from dict passing index \n",
    "print(f'series {type(s)}:\\n{s}')"
   ]
  }
 ],
 "metadata": {
  "kernelspec": {
   "display_name": "Python 3",
   "language": "python",
   "name": "python3"
  },
  "language_info": {
   "codemirror_mode": {
    "name": "ipython",
    "version": 3
   },
   "file_extension": ".py",
   "mimetype": "text/x-python",
   "name": "python",
   "nbconvert_exporter": "python",
   "pygments_lexer": "ipython3",
   "version": "3.7.3"
  }
 },
 "nbformat": 4,
 "nbformat_minor": 2
}
