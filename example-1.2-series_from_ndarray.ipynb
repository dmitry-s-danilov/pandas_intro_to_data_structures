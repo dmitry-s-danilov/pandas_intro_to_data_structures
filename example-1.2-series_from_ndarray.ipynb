{
 "cells": [
  {
   "cell_type": "code",
   "execution_count": 1,
   "metadata": {},
   "outputs": [],
   "source": [
    "# file: example-1.2_series_from_ndarray.ipynb\n",
    "# created on 2019-12-07\n",
    "\n",
    "# examples of using pandas.Series(data, index):\n",
    "# creating series form ndarray"
   ]
  },
  {
   "cell_type": "code",
   "execution_count": 2,
   "metadata": {},
   "outputs": [],
   "source": [
    "import numpy as np\n",
    "import pandas as pd"
   ]
  },
  {
   "cell_type": "code",
   "execution_count": 3,
   "metadata": {},
   "outputs": [
    {
     "name": "stdout",
     "output_type": "stream",
     "text": [
      "data <class 'numpy.ndarray'>:\n",
      "[0.46833941 0.836581   0.80216305 0.77210423 0.62524103]\n",
      "\n",
      "data <class 'pandas.core.series.Series'>:\n",
      "0    0.468339\n",
      "1    0.836581\n",
      "2    0.802163\n",
      "3    0.772104\n",
      "4    0.625241\n",
      "dtype: float64\n"
     ]
    }
   ],
   "source": [
    "# no index set\n",
    "\n",
    "# when data is a ndarray, and \n",
    "# no index is passed,\n",
    "# series index will be created having values [0, ..., len(data) - 1]\n",
    "\n",
    "n = 5 # set array length\n",
    "a = np.random.rand(n) # initialze data ndarray\n",
    "print(f'data {type(a)}:\\n{a}\\n')\n",
    "\n",
    "s = pd.Series(a) # create series from data\n",
    "print(f'data {type(s)}:\\n{s}')"
   ]
  },
  {
   "cell_type": "code",
   "execution_count": 4,
   "metadata": {},
   "outputs": [
    {
     "name": "stdout",
     "output_type": "stream",
     "text": [
      "data <class 'list'>:\n",
      "['a', 'b', 'c', 'd', 'e']\n",
      "\n",
      "data <class 'numpy.ndarray'>:\n",
      "[0.42624222 0.55717131 0.84391947 0.73178439 0.22572502]\n",
      "\n",
      "data <class 'pandas.core.series.Series'>:\n",
      "a    0.426242\n",
      "b    0.557171\n",
      "c    0.843919\n",
      "d    0.731784\n",
      "e    0.225725\n",
      "dtype: float64\n"
     ]
    }
   ],
   "source": [
    "# index set\n",
    "\n",
    "# when data is a ndarray, and\n",
    "# index is passed,\n",
    "# index must be the same length as data\n",
    "\n",
    "i = ['a', 'b', 'c', 'd', 'e'] # initialize index list\n",
    "print(f'data {type(i)}:\\n{i}\\n') \n",
    "\n",
    "n = len(i) # set array length\n",
    "a = np.random.rand(n) # initialze data ndarray\n",
    "print(f'data {type(a)}:\\n{a}\\n')\n",
    "\n",
    "s = pd.Series(a, i) # create series from data passing index\n",
    "print(f'data {type(s)}:\\n{s}')"
   ]
  },
  {
   "cell_type": "code",
   "execution_count": 5,
   "metadata": {},
   "outputs": [
    {
     "ename": "ValueError",
     "evalue": "Length of passed values is 4, index implies 5",
     "output_type": "error",
     "traceback": [
      "\u001b[0;31m---------------------------------------------------------------------------\u001b[0m",
      "\u001b[0;31mValueError\u001b[0m                                Traceback (most recent call last)",
      "\u001b[0;32m<ipython-input-5-4d124e6c11cf>\u001b[0m in \u001b[0;36m<module>\u001b[0;34m\u001b[0m\n\u001b[1;32m     13\u001b[0m \u001b[0;34m\u001b[0m\u001b[0m\n\u001b[1;32m     14\u001b[0m \u001b[0ma\u001b[0m \u001b[0;34m=\u001b[0m \u001b[0mnp\u001b[0m\u001b[0;34m.\u001b[0m\u001b[0mrandom\u001b[0m\u001b[0;34m.\u001b[0m\u001b[0mrand\u001b[0m\u001b[0;34m(\u001b[0m\u001b[0mn\u001b[0m\u001b[0;34m)\u001b[0m \u001b[0;31m# initialze data ndarray\u001b[0m\u001b[0;34m\u001b[0m\u001b[0;34m\u001b[0m\u001b[0m\n\u001b[0;32m---> 15\u001b[0;31m \u001b[0ms\u001b[0m \u001b[0;34m=\u001b[0m \u001b[0mpd\u001b[0m\u001b[0;34m.\u001b[0m\u001b[0mSeries\u001b[0m\u001b[0;34m(\u001b[0m\u001b[0ma\u001b[0m\u001b[0;34m,\u001b[0m \u001b[0mi\u001b[0m\u001b[0;34m)\u001b[0m \u001b[0;31m# create series from data passing index\u001b[0m\u001b[0;34m\u001b[0m\u001b[0;34m\u001b[0m\u001b[0m\n\u001b[0m",
      "\u001b[0;32m/usr/lib64/python3.7/site-packages/pandas/core/series.py\u001b[0m in \u001b[0;36m__init__\u001b[0;34m(self, data, index, dtype, name, copy, fastpath)\u001b[0m\n\u001b[1;32m    300\u001b[0m                         raise ValueError(\n\u001b[1;32m    301\u001b[0m                             \u001b[0;34m\"Length of passed values is {val}, \"\u001b[0m\u001b[0;34m\u001b[0m\u001b[0;34m\u001b[0m\u001b[0m\n\u001b[0;32m--> 302\u001b[0;31m                             \u001b[0;34m\"index implies {ind}\"\u001b[0m\u001b[0;34m.\u001b[0m\u001b[0mformat\u001b[0m\u001b[0;34m(\u001b[0m\u001b[0mval\u001b[0m\u001b[0;34m=\u001b[0m\u001b[0mlen\u001b[0m\u001b[0;34m(\u001b[0m\u001b[0mdata\u001b[0m\u001b[0;34m)\u001b[0m\u001b[0;34m,\u001b[0m \u001b[0mind\u001b[0m\u001b[0;34m=\u001b[0m\u001b[0mlen\u001b[0m\u001b[0;34m(\u001b[0m\u001b[0mindex\u001b[0m\u001b[0;34m)\u001b[0m\u001b[0;34m)\u001b[0m\u001b[0;34m\u001b[0m\u001b[0;34m\u001b[0m\u001b[0m\n\u001b[0m\u001b[1;32m    303\u001b[0m                         )\n\u001b[1;32m    304\u001b[0m                 \u001b[0;32mexcept\u001b[0m \u001b[0mTypeError\u001b[0m\u001b[0;34m:\u001b[0m\u001b[0;34m\u001b[0m\u001b[0;34m\u001b[0m\u001b[0m\n",
      "\u001b[0;31mValueError\u001b[0m: Length of passed values is 4, index implies 5"
     ]
    }
   ],
   "source": [
    "# wrong length set\n",
    "\n",
    "# when data is a ndarray, and\n",
    "# index is passed,\n",
    "# index must be the same length as data\n",
    "\n",
    "i = ['a', 'b', 'c', 'd', 'e'] # initialize index list\n",
    "\n",
    "# set wrong length \n",
    "n = len(i) - 1\n",
    "# or\n",
    "# n = len(i) + 1\n",
    "\n",
    "a = np.random.rand(n) # initialze data ndarray\n",
    "s = pd.Series(a, i) # create series from data passing index"
   ]
  }
 ],
 "metadata": {
  "kernelspec": {
   "display_name": "Python 3",
   "language": "python",
   "name": "python3"
  },
  "language_info": {
   "codemirror_mode": {
    "name": "ipython",
    "version": 3
   },
   "file_extension": ".py",
   "mimetype": "text/x-python",
   "name": "python",
   "nbconvert_exporter": "python",
   "pygments_lexer": "ipython3",
   "version": "3.7.3"
  }
 },
 "nbformat": 4,
 "nbformat_minor": 2
}
