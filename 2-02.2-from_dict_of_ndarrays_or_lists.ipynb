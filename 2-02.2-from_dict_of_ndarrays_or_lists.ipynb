{
 "cells": [
  {
   "cell_type": "markdown",
   "metadata": {},
   "source": [
    "# From dict of ndarrays / lists\n",
    "## from dict of lists\n",
    "\n",
    "[pandas documentattion](https://pandas.pydata.org/pandas-docs/stable/index.html) >>  \n",
    "[Getting started](https://pandas.pydata.org/pandas-docs/stable/getting_started/index.html) >>  \n",
    "[Intro to data structures](https://pandas.pydata.org/pandas-docs/stable/getting_started/dsintro.html#) >>  \n",
    "[DataFrame](https://pandas.pydata.org/pandas-docs/stable/getting_started/dsintro.html#dataframe)\n",
    "\n",
    "1. The **list**s must all be the same length.\n",
    "2. If an **index** is passed, it must clearly also be the same length as the arrays.\n",
    "3. If no **index** is passed, the result will be **range(n)**, where **n** is the array length.\n"
   ]
  },
  {
   "cell_type": "code",
   "execution_count": 24,
   "metadata": {},
   "outputs": [],
   "source": [
    "import pandas as pd\n"
   ]
  },
  {
   "cell_type": "code",
   "execution_count": 32,
   "metadata": {},
   "outputs": [
    {
     "name": "stdout",
     "output_type": "stream",
     "text": [
      "   one  two  three  four\n",
      "0    1  1.0    NaN   NaN\n",
      "1    2  2.0    2.0   NaN\n",
      "2    3  3.0    3.0   3.0\n",
      "3    4  NaN    4.0   NaN\n"
     ]
    }
   ],
   "source": [
    "# Creates a dict of the same lists. \n",
    "d = {'one': [1, 2, 3, 4],\n",
    "     'two': [1, 2, 3, None],\n",
    "     'three': [None, 2, 3, 4],\n",
    "     'four': [None, None, 3, None]}\n",
    " \n",
    "# Creates a DataFrame from a dict of lists,\n",
    "# using pandas.DataFrame, when no index is passed.\n",
    "df = pd.DataFrame(d)\n",
    "\n",
    "print(df)"
   ]
  },
  {
   "cell_type": "code",
   "execution_count": 34,
   "metadata": {},
   "outputs": [
    {
     "name": "stdout",
     "output_type": "stream",
     "text": [
      "dataframe: \n",
      "   one  two  three  four\n",
      "a    1  1.0    NaN   NaN\n",
      "b    2  2.0    2.0   NaN\n",
      "c    3  3.0    3.0   3.0\n",
      "d    4  NaN    4.0   NaN\n",
      "index: \n",
      "Index(['a', 'b', 'c', 'd'], dtype='object')\n"
     ]
    }
   ],
   "source": [
    "# Creates a DataFrame from a dict of lists,\n",
    "# using pandas.DataFrame, when index is passed.\n",
    "df = pd.DataFrame(d, index=list('abcd'))\n",
    "\n",
    "print('dataframe: ', df,\n",
    "      'index: ', df.index,\n",
    "      sep='\\n')"
   ]
  },
  {
   "cell_type": "code",
   "execution_count": 36,
   "metadata": {},
   "outputs": [
    {
     "name": "stdout",
     "output_type": "stream",
     "text": [
      "dataframe:\n",
      "   one  two  three  four\n",
      "a    1  1.0    NaN   NaN\n",
      "b    2  2.0    2.0   NaN\n",
      "c    3  3.0    3.0   3.0\n",
      "d    4  NaN    4.0   NaN\n",
      "columns:\n",
      "Index(['one', 'two', 'three', 'four'], dtype='object')\n",
      "\n",
      "dataframe:\n",
      "   four  three  two  one\n",
      "a   NaN    NaN  1.0    1\n",
      "b   NaN    2.0  2.0    2\n",
      "c   3.0    3.0  3.0    3\n",
      "d   NaN    4.0  NaN    4\n",
      "columns:\n",
      "Index(['four', 'three', 'two', 'one'], dtype='object')\n",
      "\n",
      "dataframe:\n",
      "   one  two  three\n",
      "a    1  1.0    NaN\n",
      "b    2  2.0    2.0\n",
      "c    3  3.0    3.0\n",
      "d    4  NaN    4.0\n",
      "columns:\n",
      "Index(['one', 'two', 'three'], dtype='object')\n",
      "\n",
      "dataframe:\n",
      "   two  three  four\n",
      "a  1.0    NaN   NaN\n",
      "b  2.0    2.0   NaN\n",
      "c  3.0    3.0   3.0\n",
      "d  NaN    4.0   NaN\n",
      "columns:\n",
      "Index(['two', 'three', 'four'], dtype='object')\n",
      "\n",
      "dataframe:\n",
      "   one  two  three  four five\n",
      "a    1  1.0    NaN   NaN  NaN\n",
      "b    2  2.0    2.0   NaN  NaN\n",
      "c    3  3.0    3.0   3.0  NaN\n",
      "d    4  NaN    4.0   NaN  NaN\n",
      "columns:\n",
      "Index(['one', 'two', 'three', 'four', 'five'], dtype='object')\n",
      "\n"
     ]
    }
   ],
   "source": [
    "# Sets a list of columns lists.\n",
    "c = [['one', 'two', 'three', 'four'],\n",
    "     ['four', 'three', 'two', 'one'],\n",
    "     ['one', 'two', 'three'],\n",
    "     ['two', 'three', 'four'],\n",
    "     ['one', 'two', 'three', 'four', 'five']]\n",
    "\n",
    "# Creates a list of DataFrames, using pandas.DataFrame,\n",
    "# when data is a dict of lists, index and columns are passed.\n",
    "df = [pd.DataFrame(d, index=list('abcd'), columns=_)\n",
    "      for _ in c]\n",
    "\n",
    "for _ in df:\n",
    "    print('dataframe:', _,\n",
    "          'columns:', _.columns,\n",
    "          sep='\\n', end='\\n\\n')"
   ]
  }
 ],
 "metadata": {
  "kernelspec": {
   "display_name": "Python 3",
   "language": "python",
   "name": "python3"
  },
  "language_info": {
   "codemirror_mode": {
    "name": "ipython",
    "version": 3
   },
   "file_extension": ".py",
   "mimetype": "text/x-python",
   "name": "python",
   "nbconvert_exporter": "python",
   "pygments_lexer": "ipython3",
   "version": "3.7.3"
  }
 },
 "nbformat": 4,
 "nbformat_minor": 2
}
