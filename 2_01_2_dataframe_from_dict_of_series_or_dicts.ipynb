{
 "cells": [
  {
   "cell_type": "markdown",
   "metadata": {},
   "source": [
    "# From dict of Series or dicts\n",
    "## From dict of dicts\n",
    "\n",
    "If there are any nested dicts,\n",
    "these will first be converted to Series."
   ]
  },
  {
   "cell_type": "code",
   "execution_count": 1,
   "metadata": {},
   "outputs": [],
   "source": [
    "import pandas as pd"
   ]
  },
  {
   "cell_type": "markdown",
   "metadata": {},
   "source": [
    "### 0. dict of dicts"
   ]
  },
  {
   "cell_type": "code",
   "execution_count": 2,
   "metadata": {},
   "outputs": [
    {
     "name": "stdout",
     "output_type": "stream",
     "text": [
      "one: {'a': 1, 'b': 2, 'c': 3, 'd': 4}\n",
      "two: {'a': 1, 'b': 2, 'c': 3}\n",
      "three: {'b': 1, 'c': 2, 'd': 3}\n",
      "four: {'c': 1}\n"
     ]
    }
   ],
   "source": [
    "# Creates a dict of dicts.\n",
    "# Which is actually equivalent to Series\n",
    "# when creating a DataFrame from it.\n",
    "d = {'one': {'a': 1, 'b': 2, 'c': 3, 'd': 4},\n",
    "     'two': {'a': 1, 'b': 2, 'c': 3},\n",
    "     'three': {'b': 1, 'c': 2, 'd': 3},\n",
    "     'four': {'c': 1}}\n",
    "\n",
    "# Prints the dict.\n",
    "s = '{}: {}'\n",
    "for _ in d.keys():\n",
    "    print(s.format(_, d[_]))"
   ]
  },
  {
   "cell_type": "markdown",
   "metadata": {},
   "source": [
    "### 1. DataFrame from dict of dicts; no index is set"
   ]
  },
  {
   "cell_type": "code",
   "execution_count": 3,
   "metadata": {},
   "outputs": [
    {
     "name": "stdout",
     "output_type": "stream",
     "text": [
      "   one  two  three  four\n",
      "a    1  1.0    NaN   NaN\n",
      "b    2  2.0    1.0   NaN\n",
      "c    3  3.0    2.0   1.0\n",
      "d    4  NaN    3.0   NaN\n",
      "\n",
      "index: ['a', 'b', 'c', 'd']\n",
      "columns: ['one', 'two', 'three', 'four']\n",
      "shape: (4, 4)\n"
     ]
    }
   ],
   "source": [
    "# Creates a DataFrame from the dict of dicts,\n",
    "# when no index is passed.\n",
    "df = pd.DataFrame(d)\n",
    "\n",
    "# Prints the DataFrame together with some its attributes.\n",
    "s = '{}\\n\\nindex: {}\\ncolumns: {}\\nshape: {}'\n",
    "print(s.format(df, list(df.index), list(df.columns), df.shape))"
   ]
  },
  {
   "cell_type": "markdown",
   "metadata": {},
   "source": [
    "### 2. DataFrame from dict of dicts; index is set"
   ]
  },
  {
   "cell_type": "code",
   "execution_count": 4,
   "metadata": {},
   "outputs": [
    {
     "name": "stdout",
     "output_type": "stream",
     "text": [
      "   one  two  three  four\n",
      "a    1  1.0    NaN   NaN\n",
      "b    2  2.0    1.0   NaN\n",
      "c    3  3.0    2.0   1.0\n",
      "d    4  NaN    3.0   NaN\n",
      "\n",
      "index: ['a', 'b', 'c', 'd']\n",
      "shape: (4, 4)\n",
      "\n",
      "\n",
      "   one  two  three  four\n",
      "d    4  NaN    3.0   NaN\n",
      "c    3  3.0    2.0   1.0\n",
      "b    2  2.0    1.0   NaN\n",
      "a    1  1.0    NaN   NaN\n",
      "\n",
      "index: ['d', 'c', 'b', 'a']\n",
      "shape: (4, 4)\n",
      "\n",
      "\n",
      "   one  two  three  four\n",
      "a    1    1    NaN   NaN\n",
      "b    2    2    1.0   NaN\n",
      "c    3    3    2.0   1.0\n",
      "\n",
      "index: ['a', 'b', 'c']\n",
      "shape: (3, 4)\n",
      "\n",
      "\n",
      "   one  two  three  four\n",
      "b    2  2.0      1   NaN\n",
      "c    3  3.0      2   1.0\n",
      "d    4  NaN      3   NaN\n",
      "\n",
      "index: ['b', 'c', 'd']\n",
      "shape: (3, 4)\n",
      "\n",
      "\n",
      "   one  two  three  four\n",
      "a  1.0  1.0    NaN   NaN\n",
      "b  2.0  2.0    1.0   NaN\n",
      "r  NaN  NaN    NaN   NaN\n",
      "a  1.0  1.0    NaN   NaN\n",
      "c  3.0  3.0    2.0   1.0\n",
      "a  1.0  1.0    NaN   NaN\n",
      "d  4.0  NaN    3.0   NaN\n",
      "a  1.0  1.0    NaN   NaN\n",
      "b  2.0  2.0    1.0   NaN\n",
      "r  NaN  NaN    NaN   NaN\n",
      "a  1.0  1.0    NaN   NaN\n",
      "\n",
      "index: ['a', 'b', 'r', 'a', 'c', 'a', 'd', 'a', 'b', 'r', 'a']\n",
      "shape: (11, 4)\n",
      "\n",
      "\n"
     ]
    }
   ],
   "source": [
    "# Sets a list of index lists.\n",
    "i = [list('abcd'),\n",
    "     list('dcba'),\n",
    "     list('abc'),\n",
    "     list('bcd'),\n",
    "     list('abracadabra')]\n",
    "\n",
    "# Creates a list of DataFrames,\n",
    "# iterating over the list of lists, \n",
    "# when data is the dict of dicts,\n",
    "# and index is passed by the list.\n",
    "df = [pd.DataFrame(d, index=_)\n",
    "      for _ in i]\n",
    "\n",
    "# Prints DataFrames together with some its attributes,\n",
    "# iterating over the list of DataFrames.\n",
    "s = '{}\\n\\nindex: {}\\nshape: {}\\n\\n'\n",
    "for _ in df:\n",
    "    print(s.format(_, list(_.index), _.shape))"
   ]
  },
  {
   "cell_type": "markdown",
   "metadata": {},
   "source": [
    "### 3. DataFrame from dict of dicts; index and colums are set"
   ]
  },
  {
   "cell_type": "code",
   "execution_count": 5,
   "metadata": {},
   "outputs": [
    {
     "name": "stdout",
     "output_type": "stream",
     "text": [
      "   one  two  three  four\n",
      "a    1  1.0    NaN   NaN\n",
      "b    2  2.0    1.0   NaN\n",
      "c    3  3.0    2.0   1.0\n",
      "d    4  NaN    3.0   NaN\n",
      "\n",
      "index: ['a', 'b', 'c', 'd']\n",
      "columns: ['a', 'b', 'c', 'd']\n",
      "shape: (4, 4)\n",
      "\n",
      "\n",
      "   four  three  two  one\n",
      "d   NaN    3.0  NaN    4\n",
      "c   1.0    2.0  3.0    3\n",
      "b   NaN    1.0  2.0    2\n",
      "a   NaN    NaN  1.0    1\n",
      "\n",
      "index: ['d', 'c', 'b', 'a']\n",
      "columns: ['d', 'c', 'b', 'a']\n",
      "shape: (4, 4)\n",
      "\n",
      "\n",
      "   one  two  three\n",
      "a    1    1    NaN\n",
      "b    2    2    1.0\n",
      "c    3    3    2.0\n",
      "\n",
      "index: ['a', 'b', 'c']\n",
      "columns: ['a', 'b', 'c']\n",
      "shape: (3, 3)\n",
      "\n",
      "\n",
      "   two  three  four\n",
      "b  2.0      1   NaN\n",
      "c  3.0      2   1.0\n",
      "d  NaN      3   NaN\n",
      "\n",
      "index: ['b', 'c', 'd']\n",
      "columns: ['b', 'c', 'd']\n",
      "shape: (3, 3)\n",
      "\n",
      "\n",
      "   one  two  three  four five\n",
      "a  1.0  1.0    NaN   NaN  NaN\n",
      "b  2.0  2.0    1.0   NaN  NaN\n",
      "r  NaN  NaN    NaN   NaN  NaN\n",
      "a  1.0  1.0    NaN   NaN  NaN\n",
      "c  3.0  3.0    2.0   1.0  NaN\n",
      "a  1.0  1.0    NaN   NaN  NaN\n",
      "d  4.0  NaN    3.0   NaN  NaN\n",
      "a  1.0  1.0    NaN   NaN  NaN\n",
      "b  2.0  2.0    1.0   NaN  NaN\n",
      "r  NaN  NaN    NaN   NaN  NaN\n",
      "a  1.0  1.0    NaN   NaN  NaN\n",
      "\n",
      "index: ['a', 'b', 'r', 'a', 'c', 'a', 'd', 'a', 'b', 'r', 'a']\n",
      "columns: ['a', 'b', 'r', 'a', 'c', 'a', 'd', 'a', 'b', 'r', 'a']\n",
      "shape: (11, 5)\n",
      "\n",
      "\n"
     ]
    }
   ],
   "source": [
    "# Sets a list of tuples of index and columns lists.\n",
    "ic = [(list('abcd'), ['one', 'two', 'three', 'four']),\n",
    "      (list('dcba'), ['four', 'three', 'two', 'one']),\n",
    "      (list('abc'), ['one', 'two', 'three']),\n",
    "      (list('bcd'), ['two', 'three', 'four']),\n",
    "      (list('abracadabra'),\n",
    "       ['one', 'two', 'three', 'four', 'five'])]\n",
    "\n",
    "# Creates a list of DataFrames,\n",
    "# iterating over the list of tuples,\n",
    "# when data is a dict of dicts,\n",
    "# index and columns are passed by the list.\n",
    "df = [pd.DataFrame(d, index=_[0], columns=_[1])\n",
    "      for _ in ic]\n",
    "\n",
    "# Prints DataFrames together with some its attributes,\n",
    "# iterating over the list of DataFrames.\n",
    "s = '{}\\n\\nindex: {}\\ncolumns: {}\\nshape: {}\\n\\n'\n",
    "for _ in df:\n",
    "    print(s.format(_, list(_.index), list(_.index), _.shape))"
   ]
  }
 ],
 "metadata": {
  "kernelspec": {
   "display_name": "Python 3",
   "language": "python",
   "name": "python3"
  },
  "language_info": {
   "codemirror_mode": {
    "name": "ipython",
    "version": 3
   },
   "file_extension": ".py",
   "mimetype": "text/x-python",
   "name": "python",
   "nbconvert_exporter": "python",
   "pygments_lexer": "ipython3",
   "version": "3.8.6"
  }
 },
 "nbformat": 4,
 "nbformat_minor": 2
}
