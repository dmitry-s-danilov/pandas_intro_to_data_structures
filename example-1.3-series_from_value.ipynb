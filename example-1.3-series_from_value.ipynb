{
 "cells": [
  {
   "cell_type": "code",
   "execution_count": 1,
   "metadata": {},
   "outputs": [],
   "source": [
    "# file: example-1.3-series_from_value.ipynb\n",
    "# created on 2019-12-07\n",
    "\n",
    "# examples of using pandas.Series(data, index):\n",
    "# creating series from scalar value"
   ]
  },
  {
   "cell_type": "code",
   "execution_count": 2,
   "metadata": {},
   "outputs": [],
   "source": [
    "import pandas as pd"
   ]
  },
  {
   "cell_type": "code",
   "execution_count": 3,
   "metadata": {},
   "outputs": [
    {
     "name": "stdout",
     "output_type": "stream",
     "text": [
      "data <class 'int'>: 1\n",
      "\n",
      "index <class 'list'>: ['a', 'b', 'c']\n",
      "\n",
      "series <class 'pandas.core.series.Series'>:\n",
      "a    1\n",
      "b    1\n",
      "c    1\n",
      "dtype: int64\n"
     ]
    }
   ],
   "source": [
    "# index set\n",
    "\n",
    "# if data is a scalar value,\n",
    "# an index must be provided,\n",
    "# when value will be repeated to match the length of index\n",
    "\n",
    "# initialize data value\n",
    "v = 1 # int \n",
    "# v = 1. # float\n",
    "# v = '1' # str\n",
    "print(f'data {type(v)}: {v}\\n')\n",
    "\n",
    "i = ['a', 'b', 'c'] # initialize index list\n",
    "print(f'index {type(i)}: {i}\\n')\n",
    "\n",
    "s = pd.Series(v, i) # create series from data providing index\n",
    "print(f'series {type(s)}:\\n{s}')"
   ]
  }
 ],
 "metadata": {
  "kernelspec": {
   "display_name": "Python 3",
   "language": "python",
   "name": "python3"
  },
  "language_info": {
   "codemirror_mode": {
    "name": "ipython",
    "version": 3
   },
   "file_extension": ".py",
   "mimetype": "text/x-python",
   "name": "python",
   "nbconvert_exporter": "python",
   "pygments_lexer": "ipython3",
   "version": "3.7.3"
  }
 },
 "nbformat": 4,
 "nbformat_minor": 2
}
