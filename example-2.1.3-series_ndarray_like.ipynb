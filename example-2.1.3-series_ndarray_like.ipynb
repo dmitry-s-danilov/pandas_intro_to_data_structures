{
 "cells": [
  {
   "cell_type": "code",
   "execution_count": 1,
   "metadata": {},
   "outputs": [],
   "source": [
    "# file: example-2.1.3-series_ndarray_like.ipynb\n",
    "# created on 2019-12-11\n",
    "\n",
    "# examples of using pandas Series:\n",
    "# pandas Series acts like NumPy ndarray"
   ]
  },
  {
   "cell_type": "code",
   "execution_count": 2,
   "metadata": {},
   "outputs": [],
   "source": [
    "import numpy as np\n",
    "import pandas as pd\n",
    "import matplotlib.pyplot as plt"
   ]
  },
  {
   "cell_type": "code",
   "execution_count": 3,
   "metadata": {},
   "outputs": [
    {
     "name": "stdout",
     "output_type": "stream",
     "text": [
      "<class 'numpy.ndarray'>:\n",
      "[-0.16472263  0.29624028 -0.08676308  0.09129858  0.20573653  0.26134522\n",
      " -0.37962317  0.3706912 ]\n",
      "\n",
      "ndim: 1\n",
      "shape: (8,)\n",
      "size: 8\n",
      "dtype: float64\n",
      "\n",
      "<class 'pandas.core.series.Series'>:\n",
      "a   -0.164723\n",
      "b    0.296240\n",
      "c   -0.086763\n",
      "d    0.091299\n",
      "e    0.205737\n",
      "f    0.261345\n",
      "g   -0.379623\n",
      "h    0.370691\n",
      "dtype: float64\n",
      "\n",
      "ndim: 1\n",
      "shape: (8,)\n",
      "size: 8\n",
      "dtype: float64\n"
     ]
    },
    {
     "data": {
      "image/png": "[encoded data removed]",
      "text/plain": [
       "<Figure size 432x288 with 1 Axes>"
      ]
     },
     "metadata": {
      "needs_background": "light"
     },
     "output_type": "display_data"
    },
    {
     "data": {
      "image/png": "[encoded data removed]",
      "text/plain": [
       "<Figure size 432x288 with 1 Axes>"
      ]
     },
     "metadata": {
      "needs_background": "light"
     },
     "output_type": "display_data"
    }
   ],
   "source": [
    "# init\n",
    "# basic method to create a Series is\n",
    "# to call pandas.Series(data, index)\n",
    "\n",
    "index_list = list('abcdefgh')            # set index list\n",
    "\n",
    "array_size = len(index_list)             # set ndarray length\n",
    "                                         # equal to index list length\n",
    "data_array = np.random.randn(array_size) # create random data ndarray\n",
    "                                         # of specified length\n",
    "\n",
    "data_series = pd.Series( # create Series\n",
    "    data_array,          # providing data by ndarray and\n",
    "    index_list           # passing index by list\n",
    ")\n",
    "\n",
    "\n",
    "# print\n",
    "# Series has same atributes as ndarray\n",
    "# including dtype\n",
    "\n",
    "print(\n",
    "    f'{type(data_array)}:', data_array,\n",
    "    '',\n",
    "    f'ndim: {data_array.ndim}',\n",
    "    f'shape: {data_array.shape}',\n",
    "    f'size: {data_array.size}',\n",
    "    f'dtype: {data_array.dtype}',\n",
    "    '',\n",
    "    f'{type(data_series)}:', data_series,\n",
    "    '',\n",
    "    f'ndim: {data_series.ndim}',\n",
    "    f'shape: {data_series.shape}',\n",
    "    f'size: {data_series.size}',\n",
    "    f'dtype: {data_series.dtype}',\n",
    "    \n",
    "    sep='\\n'\n",
    ")\n",
    "\n",
    "# plot\n",
    "# compare plots of ndarray and Series\n",
    "# looking at x-axis ticks\n",
    "\n",
    "plt.plot(data_array, 'o:') \n",
    "plt.show()\n",
    "\n",
    "plt.plot(data_series, 'o:') \n",
    "plt.show()"
   ]
  },
  {
   "cell_type": "code",
   "execution_count": 5,
   "metadata": {},
   "outputs": [
    {
     "name": "stdout",
     "output_type": "stream",
     "text": [
      "<class 'pandas.core.arrays.numpy_.PandasArray'>:\n",
      "<PandasArray>\n",
      "[-0.16472262897474527,    0.296240284133038, -0.08676308183189735,\n",
      "   0.0912985831479579,   0.2057365270801184,   0.2613452230708181,\n",
      "  -0.3796231749525144,    0.370691201913062]\n",
      "Length: 8, dtype: float64\n"
     ]
    }
   ],
   "source": [
    "# convert\n",
    "# use atribute Series.array\n",
    "# to gete an actual array\n",
    "\n",
    "data_array_1 = data_series.array\n",
    "\n",
    "# print\n",
    "\n",
    "print(\n",
    "    f'{type(data_array_1)}:',\n",
    "    data_array_1,\n",
    "    sep='\\n'\n",
    ")"
   ]
  },
  {
   "cell_type": "code",
   "execution_count": 6,
   "metadata": {},
   "outputs": [
    {
     "name": "stdout",
     "output_type": "stream",
     "text": [
      "<class 'numpy.ndarray'>:\n",
      "[-0.16472263  0.29624028 -0.08676308  0.09129858  0.20573653  0.26134522\n",
      " -0.37962317  0.3706912 ]\n"
     ]
    }
   ],
   "source": [
    "# convert\n",
    "# use method Series.to_numpy()\n",
    "# to get an actual ndarray\n",
    "\n",
    "data_array_2 = data_series.to_numpy()\n",
    "\n",
    "# print\n",
    "\n",
    "print(\n",
    "    f'{type(data_array_2)}:',\n",
    "    data_array_2,\n",
    "    sep='\\n'\n",
    ")"
   ]
  }
 ],
 "metadata": {
  "kernelspec": {
   "display_name": "Python 3",
   "language": "python",
   "name": "python3"
  },
  "language_info": {
   "codemirror_mode": {
    "name": "ipython",
    "version": 3
   },
   "file_extension": ".py",
   "mimetype": "text/x-python",
   "name": "python",
   "nbconvert_exporter": "python",
   "pygments_lexer": "ipython3",
   "version": "3.7.3"
  }
 },
 "nbformat": 4,
 "nbformat_minor": 2
}
