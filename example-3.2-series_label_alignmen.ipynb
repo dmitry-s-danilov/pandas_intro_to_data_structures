{
 "cells": [
  {
   "cell_type": "code",
   "execution_count": 1,
   "metadata": {},
   "outputs": [],
   "source": [
    "# file: example-3.2-series_label_alignmen.ipynb\n",
    "# created on 2019-12-12\n",
    "\n",
    "# examples of using pandas Series: label alignment\n",
    "    \n",
    "# operations between Series automatically align the data based on label\n",
    "    \n",
    "# thus, it's posible to write computations\n",
    "# without giving consideration to\n",
    "# whether the Series involved have the same labels"
   ]
  },
  {
   "cell_type": "code",
   "execution_count": 2,
   "metadata": {},
   "outputs": [],
   "source": [
    "import numpy as np\n",
    "import pandas as pd\n",
    "import matplotlib.pyplot as plt"
   ]
  },
  {
   "cell_type": "code",
   "execution_count": 3,
   "metadata": {},
   "outputs": [
    {
     "name": "stdout",
     "output_type": "stream",
     "text": [
      "<class 'numpy.ndarray'>:\n",
      "[-0.87086751  1.83610466 -1.00958003 -0.74391658 -0.8291427  -1.41230384\n",
      " -0.66649151  0.19668785]\n",
      "\n",
      "<class 'pandas.core.series.Series'>:\n",
      "a   -0.870868\n",
      "b    1.836105\n",
      "c   -1.009580\n",
      "d   -0.743917\n",
      "e   -0.829143\n",
      "f   -1.412304\n",
      "g   -0.666492\n",
      "h    0.196688\n",
      "Name: normal 0, dtype: float64\n"
     ]
    },
    {
     "data": {
      "image/png": "[encoded data removed]",
      "text/plain": [
       "<Figure size 432x288 with 1 Axes>"
      ]
     },
     "metadata": {
      "needs_background": "light"
     },
     "output_type": "display_data"
    }
   ],
   "source": [
    "# init\n",
    "    # basic way to create a Series is\n",
    "    # to call the pandas.Series(data, index) function\n",
    "\n",
    "label_list = list('abcdefgh') # set index label list\n",
    "\n",
    "array_size = len(label_list)             # set ndarray length\n",
    "                                         # equal to label list length\n",
    "data_array = np.random.randn(array_size) # create specified length data ndarray\n",
    "                                         # of samples from the \"standard normal\" distribution\n",
    "\n",
    "data_series = pd.Series( # create Series with the pandas.Series() function\n",
    "    data_array,          # providing data by ndarray,\n",
    "    label_list,          # passing index by list and\n",
    "    name='normal 0'      # setting name attribute\n",
    ")\n",
    "\n",
    "\n",
    "# print\n",
    "\n",
    "print(\n",
    "    f'{type(data_array)}:', data_array, '',\n",
    "    f'{type(data_series)}:', data_series,\n",
    "    sep='\\n'\n",
    ")\n",
    "\n",
    "# plot\n",
    "\n",
    "plt.axhline(linewidth=1, color='black')\n",
    "plt.plot(data_series, 'o:') \n",
    "plt.show()"
   ]
  },
  {
   "cell_type": "code",
   "execution_count": 4,
   "metadata": {},
   "outputs": [
    {
     "name": "stdout",
     "output_type": "stream",
     "text": [
      "normal 1:\n",
      "a   -0.870868\n",
      "b    1.836105\n",
      "c   -1.009580\n",
      "d   -0.743917\n",
      "e   -0.829143\n",
      "f   -1.412304\n",
      "g   -0.666492\n",
      "Name: normal 1, dtype: float64\n",
      "\n",
      "normal 2:\n",
      "b   -1.836105\n",
      "c    1.009580\n",
      "d    0.743917\n",
      "e    0.829143\n",
      "f    1.412304\n",
      "g    0.666492\n",
      "h   -0.196688\n",
      "Name: normal 2, dtype: float64\n",
      "\n",
      "normal +:\n",
      "a    NaN\n",
      "b    0.0\n",
      "c    0.0\n",
      "d    0.0\n",
      "e    0.0\n",
      "f    0.0\n",
      "g    0.0\n",
      "h    NaN\n",
      "Name: normal +, dtype: float64\n",
      "\n"
     ]
    },
    {
     "data": {
      "image/png": "[encoded data removed]",
      "text/plain": [
       "<Figure size 432x288 with 1 Axes>"
      ]
     },
     "metadata": {
      "needs_background": "light"
     },
     "output_type": "display_data"
    }
   ],
   "source": [
    "# modify\n",
    " \n",
    "data_series_1 = data_series[:-1]                 # slice\n",
    "data_series_1 = data_series_1.rename('normal 1') # rename\n",
    "\n",
    "data_series_2 = -data_series[1:]                 # slice and sign change \n",
    "data_series_2 = data_series_2.rename('normal 2') # rename\n",
    "\n",
    "data_series_3 = data_series_1 + data_series_2    # add\n",
    "data_series_3 = data_series_3.rename('normal +') # rename\n",
    "\n",
    "# print\n",
    "\n",
    "print(\n",
    "    f'{data_series_1.name}:', data_series_1, '',\n",
    "    f'{data_series_2.name}:', data_series_2, '',\n",
    "    f'{data_series_3.name}:', data_series_3, '',\n",
    "    sep='\\n'\n",
    ")\n",
    "    \n",
    "# plot\n",
    "\n",
    "plt.axhline(linewidth=1, color='black')\n",
    "plt.plot(data_series_1, 'o:', label=data_series_1.name)\n",
    "plt.plot(data_series_2, 'o:', label=data_series_2.name)\n",
    "plt.plot(data_series_3, 'o', label=data_series_3.name)\n",
    "plt.legend()\n",
    "plt.show()"
   ]
  }
 ],
 "metadata": {
  "kernelspec": {
   "display_name": "Python 3",
   "language": "python",
   "name": "python3"
  },
  "language_info": {
   "codemirror_mode": {
    "name": "ipython",
    "version": 3
   },
   "file_extension": ".py",
   "mimetype": "text/x-python",
   "name": "python",
   "nbconvert_exporter": "python",
   "pygments_lexer": "ipython3",
   "version": "3.7.3"
  }
 },
 "nbformat": 4,
 "nbformat_minor": 2
}
