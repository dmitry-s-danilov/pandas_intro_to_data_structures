{
 "cells": [
  {
   "cell_type": "markdown",
   "metadata": {},
   "source": [
    "# From scalar value\n",
    "\n",
    "1. The basic method to create a **Series** is to call **pandas.Series**(*data*, *index*),\n",
    "   where *data* can be a **value**, and the passed *index* is a list of axis labels.\n",
    "2. If *data* is a scalar value, an *index* must be provided.\n",
    "3. The value will be repeated to match the length of *index*."
   ]
  },
  {
   "cell_type": "code",
   "execution_count": 1,
   "metadata": {},
   "outputs": [],
   "source": [
    "import pandas as pd"
   ]
  },
  {
   "cell_type": "code",
   "execution_count": 2,
   "metadata": {},
   "outputs": [
    {
     "name": "stdout",
     "output_type": "stream",
     "text": [
      "index <class 'list'>:\n",
      "['a', 'b', 'c']\n",
      "\n",
      "data <class 'int'>: 1\n",
      "Series <class 'pandas.core.series.Series'>:\n",
      "a    1\n",
      "b    1\n",
      "c    1\n",
      "dtype: int64\n",
      "\n",
      "data <class 'float'>: 1.0\n",
      "Series <class 'pandas.core.series.Series'>:\n",
      "a    1.0\n",
      "b    1.0\n",
      "c    1.0\n",
      "dtype: float64\n",
      "\n",
      "data <class 'str'>: 1\n",
      "Series <class 'pandas.core.series.Series'>:\n",
      "a    1\n",
      "b    1\n",
      "c    1\n",
      "dtype: object\n"
     ]
    }
   ],
   "source": [
    "# Create series, when the data is a scalar value,\n",
    "# and the index is passed.\n",
    "\n",
    "i = list('abc')\n",
    "\n",
    "print(f'index {type(i)}:', i, '', sep='\\n')\n",
    "\n",
    "v = 1 \n",
    "s = pd.Series(v, i)\n",
    "\n",
    "print(f'data {type(v)}: {v}',\n",
    "      f'Series {type(s)}:', s, '',\n",
    "      sep='\\n')\n",
    "\n",
    "v = 1.\n",
    "s = pd.Series(v, i)\n",
    "\n",
    "print(f'data {type(v)}: {v}',\n",
    "      f'Series {type(s)}:', s, '',\n",
    "      sep='\\n')\n",
    "\n",
    "v = '1'\n",
    "s = pd.Series(v, i)\n",
    "\n",
    "print(f'data {type(v)}: {v}',\n",
    "      f'Series {type(s)}:', s,\n",
    "      sep='\\n')"
   ]
  }
 ],
 "metadata": {
  "kernelspec": {
   "display_name": "Python 3",
   "language": "python",
   "name": "python3"
  },
  "language_info": {
   "codemirror_mode": {
    "name": "ipython",
    "version": 3
   },
   "file_extension": ".py",
   "mimetype": "text/x-python",
   "name": "python",
   "nbconvert_exporter": "python",
   "pygments_lexer": "ipython3",
   "version": "3.8.6"
  }
 },
 "nbformat": 4,
 "nbformat_minor": 2
}
