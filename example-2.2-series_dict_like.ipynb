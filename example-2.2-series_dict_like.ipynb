{
 "cells": [
  {
   "cell_type": "code",
   "execution_count": null,
   "metadata": {},
   "outputs": [],
   "source": [
    "# file: example-2.2-series_dict_like.ipynb\n",
    "# created on 2019-12-11\n",
    "\n",
    "# examples of using pandas Series\n",
    "\n",
    "# numpy Series is like a fixed-size dicct\n",
    "# in that it is possible\n",
    "# to get and set values by index label"
   ]
  },
  {
   "cell_type": "code",
   "execution_count": 1,
   "metadata": {},
   "outputs": [],
   "source": [
    "import random\n",
    "import numpy as np\n",
    "import pandas as pd\n",
    "import matplotlib.pyplot as plt"
   ]
  },
  {
   "cell_type": "code",
   "execution_count": 2,
   "metadata": {},
   "outputs": [
    {
     "name": "stdout",
     "output_type": "stream",
     "text": [
      "<class 'numpy.ndarray'>:\n",
      "[-0.74596679 -0.29493753 -0.27803349  0.73028611 -0.01790884 -0.84470635\n",
      " -0.16306382 -0.37989455]\n",
      "\n",
      "<class 'pandas.core.series.Series'>:\n",
      "a   -0.745967\n",
      "b   -0.294938\n",
      "c   -0.278033\n",
      "d    0.730286\n",
      "e   -0.017909\n",
      "f   -0.844706\n",
      "g   -0.163064\n",
      "h   -0.379895\n",
      "dtype: float64\n"
     ]
    },
    {
     "data": {
      "image/png": "[encoded data removed]",
      "text/plain": [
       "<Figure size 432x288 with 1 Axes>"
      ]
     },
     "metadata": {
      "needs_background": "light"
     },
     "output_type": "display_data"
    }
   ],
   "source": [
    "# init\n",
    "# basic method to create a Series is\n",
    "# to call pandas.Series(data, index)\n",
    "\n",
    "label_list = list('abcdefgh')            # set index label list\n",
    "\n",
    "array_size = len(label_list)             # set ndarray length\n",
    "                                         # equal to label list length\n",
    "data_array = np.random.randn(array_size) # create random data ndarray\n",
    "                                         # of specified length\n",
    "\n",
    "data_series = pd.Series( # create Series\n",
    "    data_array,          # providing data by ndarray and\n",
    "    label_list           # passing index by list\n",
    ")\n",
    "\n",
    "\n",
    "# print\n",
    "\n",
    "print(\n",
    "    f'{type(data_array)}:', data_array,\n",
    "    '',\n",
    "    f'{type(data_series)}:', data_series,\n",
    "    sep='\\n'\n",
    ")\n",
    "\n",
    "# plot\n",
    "\n",
    "plt.plot(data_series, 'o:') \n",
    "plt.show()"
   ]
  },
  {
   "cell_type": "code",
   "execution_count": 15,
   "metadata": {},
   "outputs": [
    {
     "name": "stdout",
     "output_type": "stream",
     "text": [
      "s:\n",
      "a   -0.745967\n",
      "b   -0.294938\n",
      "c   -0.278033\n",
      "d    0.730286\n",
      "e   -0.017909\n",
      "f   -0.844706\n",
      "g   -0.163064\n",
      "h   -0.379895\n",
      "dtype: float64\n",
      "\n",
      "k: c\n",
      "k in s: True\n",
      "s[k]:  -0.278033\n",
      "s.get(k):  -0.278033\n"
     ]
    },
    {
     "data": {
      "image/png": "[encoded data removed]",
      "text/plain": [
       "<Figure size 432x288 with 1 Axes>"
      ]
     },
     "metadata": {
      "needs_background": "light"
     },
     "output_type": "display_data"
    }
   ],
   "source": [
    "# init\n",
    "\n",
    "data_label = random.choice(label_list) # choose a random index label\n",
    "                                       # from label list\n",
    "\n",
    "# print\n",
    "\n",
    "print(\n",
    "    's:', data_series, '',                            # Series\n",
    "    f'k: {data_label}',                               # label\n",
    "    f'k in s: {data_label in data_series}',           # check Series for label\n",
    "    f's[k]: {data_series[data_label]:10.6f}',         # access to Series using label\n",
    "    f's.get(k): {data_series.get(data_label):10.6f}', # access to Series using get() method\n",
    "    sep='\\n'\n",
    ")\n",
    "\n",
    "# plot\n",
    "\n",
    "plt.plot(\n",
    "    data_series, '.:',\n",
    "    label_list.index(data_label), data_series[data_label], 'o'\n",
    ")\n",
    "plt.show()"
   ]
  },
  {
   "cell_type": "code",
   "execution_count": 14,
   "metadata": {},
   "outputs": [
    {
     "name": "stdout",
     "output_type": "stream",
     "text": [
      "s:\n",
      "a   -0.745967\n",
      "b   -0.294938\n",
      "c   -0.278033\n",
      "d    0.730286\n",
      "e   -0.017909\n",
      "f   -0.844706\n",
      "g   -0.163064\n",
      "h   -0.379895\n",
      "dtype: float64\n",
      "\n",
      "k: x\n",
      "k in s: False\n",
      "s.get(k): None\n"
     ]
    }
   ],
   "source": [
    "# init\n",
    "\n",
    "data_label = 'x' # set index label\n",
    "                 # that is not contained\n",
    "\n",
    "# print\n",
    "\n",
    "print(\n",
    "    's:', data_series, '',                      # Series\n",
    "    f'k: {data_label}',                         # label\n",
    "    f'k in s: {data_label in data_series}',     # check Series for label\n",
    "                                                # results in False\n",
    "    # f's[k]: {data_series[data_label]:10.6f}', # access to Series using label\n",
    "                                                # leads to exeption raising\n",
    "    f's.get(k): {data_series.get(data_label)}', # access to Series using get() method\n",
    "                                                # results in None\n",
    "    sep='\\n'\n",
    ")"
   ]
  }
 ],
 "metadata": {
  "kernelspec": {
   "display_name": "Python 3",
   "language": "python",
   "name": "python3"
  },
  "language_info": {
   "codemirror_mode": {
    "name": "ipython",
    "version": 3
   },
   "file_extension": ".py",
   "mimetype": "text/x-python",
   "name": "python",
   "nbconvert_exporter": "python",
   "pygments_lexer": "ipython3",
   "version": "3.7.3"
  }
 },
 "nbformat": 4,
 "nbformat_minor": 2
}
